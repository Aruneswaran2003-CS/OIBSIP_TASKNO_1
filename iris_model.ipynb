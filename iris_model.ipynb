{
 "cells": [
  {
   "cell_type": "code",
   "execution_count": 7,
   "id": "a2d8fb16",
   "metadata": {},
   "outputs": [],
   "source": [
    "import pandas as pd\n",
    "import numpy as np\n",
    "import matplotlib.pyplot as plt\n",
    "import seaborn as sns"
   ]
  },
  {
   "cell_type": "code",
   "execution_count": null,
   "id": "7777f038",
   "metadata": {},
   "outputs": [],
   "source": [
    "filepath =\"dataset/iris.csv\""
   ]
  },
  {
   "cell_type": "code",
   "execution_count": null,
   "id": "5a4507b6",
   "metadata": {},
   "outputs": [],
   "source": [
    "df = pd.read_csv(filepath)"
   ]
  },
  {
   "cell_type": "code",
   "execution_count": null,
   "id": "79a1317b",
   "metadata": {},
   "outputs": [],
   "source": [
    "df"
   ]
  },
  {
   "cell_type": "code",
   "execution_count": null,
   "id": "a94d80c0",
   "metadata": {},
   "outputs": [],
   "source": [
    "df.head()"
   ]
  },
  {
   "cell_type": "code",
   "execution_count": null,
   "id": "0f8acba5",
   "metadata": {},
   "outputs": [],
   "source": [
    "df.info()"
   ]
  },
  {
   "cell_type": "markdown",
   "id": "c106e9b8",
   "metadata": {},
   "source": [
    "# Exploratory Data Analysis"
   ]
  },
  {
   "cell_type": "code",
   "execution_count": null,
   "id": "561f88f5",
   "metadata": {},
   "outputs": [],
   "source": [
    "df.describe()"
   ]
  },
  {
   "cell_type": "code",
   "execution_count": null,
   "id": "2fc77185",
   "metadata": {},
   "outputs": [],
   "source": [
    "df.corr()"
   ]
  },
  {
   "cell_type": "code",
   "execution_count": null,
   "id": "14087614",
   "metadata": {},
   "outputs": [],
   "source": [
    "df.Species.value_counts()"
   ]
  },
  {
   "cell_type": "markdown",
   "id": "bf2303f0",
   "metadata": {},
   "source": [
    "2D Scatterplot"
   ]
  },
  {
   "cell_type": "code",
   "execution_count": null,
   "id": "84c2cc98",
   "metadata": {
    "scrolled": true
   },
   "outputs": [],
   "source": [
    "sns.FacetGrid(df,hue=\"Species\",height=6).map(plt.scatter,\"SepalLengthCm\",\"SepalWidthCm\").add_legend();\n",
    "plt.show()"
   ]
  },
  {
   "cell_type": "code",
   "execution_count": null,
   "id": "4cdba1cf",
   "metadata": {},
   "outputs": [],
   "source": [
    "sns.FacetGrid(df,hue=\"Species\",height=6).map(plt.scatter,\"PetalLengthCm\",\"PetalWidthCm\").add_legend();\n",
    "plt.show()"
   ]
  },
  {
   "cell_type": "markdown",
   "id": "e81e54d4",
   "metadata": {},
   "source": [
    "Pairplot"
   ]
  },
  {
   "cell_type": "code",
   "execution_count": null,
   "id": "158732dd",
   "metadata": {
    "scrolled": false
   },
   "outputs": [],
   "source": [
    "sns.pairplot(df,hue=\"Species\");\n",
    "plt.show()"
   ]
  },
  {
   "cell_type": "markdown",
   "id": "7624cf3a",
   "metadata": {},
   "source": [
    "Histogram"
   ]
  },
  {
   "cell_type": "code",
   "execution_count": null,
   "id": "ac9037b0",
   "metadata": {},
   "outputs": [],
   "source": [
    "plt.hist(df[\"SepalLengthCm\"],bins=25);\n",
    "plt.show()"
   ]
  },
  {
   "cell_type": "code",
   "execution_count": null,
   "id": "40a13984",
   "metadata": {},
   "outputs": [],
   "source": [
    "sns.FacetGrid(df,hue=\"Species\",height=8).map(sns.distplot,\"PetalWidthCm\").add_legend();\n",
    "plt.show()"
   ]
  },
  {
   "cell_type": "code",
   "execution_count": null,
   "id": "44e26d42",
   "metadata": {},
   "outputs": [],
   "source": [
    "sns.FacetGrid(df,hue=\"Species\",height=8).map(sns.distplot,\"PetalLengthCm\").add_legend();\n",
    "plt.show()"
   ]
  },
  {
   "cell_type": "code",
   "execution_count": null,
   "id": "3b1dd1a8",
   "metadata": {},
   "outputs": [],
   "source": [
    "sns.FacetGrid(df,hue=\"Species\",height=8).map(sns.distplot,\"SepalLengthCm\").add_legend();\n",
    "plt.show()"
   ]
  },
  {
   "cell_type": "code",
   "execution_count": null,
   "id": "b383b239",
   "metadata": {},
   "outputs": [],
   "source": [
    "sns.FacetGrid(df,hue=\"Species\",height=8).map(sns.distplot,\"SepalWidthCm\").add_legend();\n",
    "plt.show()"
   ]
  },
  {
   "cell_type": "markdown",
   "id": "1f2aedb7",
   "metadata": {},
   "source": [
    "Box-Plot"
   ]
  },
  {
   "cell_type": "code",
   "execution_count": null,
   "id": "cbfe92ed",
   "metadata": {},
   "outputs": [],
   "source": [
    "sns.boxplot(x=\"Species\",y=\"PetalLengthCm\",data=df);\n",
    "plt.show()"
   ]
  },
  {
   "cell_type": "markdown",
   "id": "ec9a73bc",
   "metadata": {},
   "source": [
    "# Preprocessing"
   ]
  },
  {
   "cell_type": "markdown",
   "id": "3b08b50c",
   "metadata": {},
   "source": [
    "Feature Scaling"
   ]
  },
  {
   "cell_type": "code",
   "execution_count": null,
   "id": "735312e0",
   "metadata": {},
   "outputs": [],
   "source": [
    "from sklearn.preprocessing import StandardScaler\n",
    "ss = StandardScaler()"
   ]
  },
  {
   "cell_type": "code",
   "execution_count": null,
   "id": "85f1ca15",
   "metadata": {},
   "outputs": [],
   "source": [
    "X = df.drop(['Species'],axis=1)"
   ]
  },
  {
   "cell_type": "code",
   "execution_count": null,
   "id": "1d13a75d",
   "metadata": {},
   "outputs": [],
   "source": [
    "X"
   ]
  },
  {
   "cell_type": "code",
   "execution_count": null,
   "id": "5e5c6b35",
   "metadata": {},
   "outputs": [],
   "source": [
    "y=df[\"Species\"]"
   ]
  },
  {
   "cell_type": "code",
   "execution_count": null,
   "id": "32adc9fe",
   "metadata": {},
   "outputs": [],
   "source": [
    "scaler = ss.fit(X)"
   ]
  },
  {
   "cell_type": "code",
   "execution_count": null,
   "id": "e3b2bb4a",
   "metadata": {},
   "outputs": [],
   "source": [
    "X_stdscaler = scaler.transform(X)"
   ]
  },
  {
   "cell_type": "code",
   "execution_count": null,
   "id": "ff636335",
   "metadata": {},
   "outputs": [],
   "source": [
    "X_stdscaler"
   ]
  },
  {
   "cell_type": "markdown",
   "id": "a8197e99",
   "metadata": {},
   "source": [
    "Label Encoder"
   ]
  },
  {
   "cell_type": "code",
   "execution_count": null,
   "id": "0db5932a",
   "metadata": {},
   "outputs": [],
   "source": [
    "y"
   ]
  },
  {
   "cell_type": "code",
   "execution_count": null,
   "id": "b81b70c8",
   "metadata": {},
   "outputs": [],
   "source": [
    "from sklearn.preprocessing import LabelEncoder\n",
    "le = LabelEncoder()"
   ]
  },
  {
   "cell_type": "code",
   "execution_count": null,
   "id": "930552d4",
   "metadata": {},
   "outputs": [],
   "source": [
    "y = le.fit_transform(y)"
   ]
  },
  {
   "cell_type": "code",
   "execution_count": null,
   "id": "c6d7e937",
   "metadata": {},
   "outputs": [],
   "source": [
    "y"
   ]
  },
  {
   "cell_type": "markdown",
   "id": "d52df075",
   "metadata": {},
   "source": [
    "Splitting"
   ]
  },
  {
   "cell_type": "code",
   "execution_count": null,
   "id": "aef9775f",
   "metadata": {},
   "outputs": [],
   "source": [
    "from sklearn.model_selection import train_test_split\n",
    "X_train,X_test,y_train,y_test = train_test_split(X,y,test_size=0.3,random_state=42)"
   ]
  },
  {
   "cell_type": "markdown",
   "id": "3eaa72fc",
   "metadata": {},
   "source": [
    "Model Selection"
   ]
  },
  {
   "cell_type": "code",
   "execution_count": null,
   "id": "74192af6",
   "metadata": {},
   "outputs": [],
   "source": [
    "from sklearn.svm import SVC"
   ]
  },
  {
   "cell_type": "code",
   "execution_count": null,
   "id": "5dabaebe",
   "metadata": {},
   "outputs": [],
   "source": [
    "svc = SVC(kernel=\"rbf\")\n",
    "svc.fit(X_train,y_train)"
   ]
  },
  {
   "cell_type": "code",
   "execution_count": null,
   "id": "f8feb4d9",
   "metadata": {},
   "outputs": [],
   "source": [
    "y_pred = svc.predict(X_test)"
   ]
  },
  {
   "cell_type": "code",
   "execution_count": null,
   "id": "103eab02",
   "metadata": {},
   "outputs": [],
   "source": [
    "y_pred"
   ]
  },
  {
   "cell_type": "code",
   "execution_count": null,
   "id": "eaeeeefa",
   "metadata": {},
   "outputs": [],
   "source": [
    "from sklearn.metrics import accuracy_score"
   ]
  },
  {
   "cell_type": "code",
   "execution_count": null,
   "id": "92dfe8b6",
   "metadata": {},
   "outputs": [],
   "source": [
    "print(\"Accuracy of this Model is \",accuracy_score(y_pred,y_test)*100,'%')"
   ]
  }
 ],
 "metadata": {
  "kernelspec": {
   "display_name": "Python 3 (ipykernel)",
   "language": "python",
   "name": "python3"
  },
  "language_info": {
   "codemirror_mode": {
    "name": "ipython",
    "version": 3
   },
   "file_extension": ".py",
   "mimetype": "text/x-python",
   "name": "python",
   "nbconvert_exporter": "python",
   "pygments_lexer": "ipython3",
   "version": "3.9.13"
  }
 },
 "nbformat": 4,
 "nbformat_minor": 5
}
